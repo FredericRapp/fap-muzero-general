performing monte carlo tree search
step in the AQGM envi with respective feature map: 2 Ry(p,x;=y*(x),{y,x})-cx-
performing monte carlo tree search
step in the AQGM envi with respective feature map: 3 Ry(p,x;=y*(x),{y,x})-cx-cx-
Two same actions in a row!
performing monte carlo tree search
step in the AQGM envi with respective feature map: 4 Ry(p,x;=y*(x),{y,x})-cx-cx-cx-
Two same actions in a row!
performing monte carlo tree search
step in the AQGM envi with respective feature map: 5 Ry(p,x;=y*(x),{y,x})-cx-cx-cx-cx-
Two same actions in a row!
performing monte carlo tree search
step in the AQGM envi with respective feature map: 6 Ry(p,x;=y*(x),{y,x})-cx-cx-cx-cx-cx-
Two same actions in a row!
performing monte carlo tree search
step in the AQGM envi with respective feature map: 7 Ry(p,x;=y*(x),{y,x})-cx-cx-cx-cx-cx-cx-
Two same actions in a row!
performing monte carlo tree search
step in the AQGM envi with respective feature map: 8 Ry(p,x;=y*(x),{y,x})-cx-cx-cx-cx-cx-cx-cx-
Two same actions in a row!
performing monte carlo tree search
step in the AQGM envi with respective feature map: 9 Ry(p,x;=y*(x),{y,x})-cx-cx-cx-cx-cx-cx-cx-cx-
Two same actions in a row!
performing monte carlo tree search
step in the AQGM envi with respective feature map: 10 Ry(p,x;=y*(x),{y,x})-cx-cx-cx-cx-cx-cx-cx-cx-cx-
Two same actions in a row!
performing monte carlo tree search
step in the AQGM envi with respective feature map: 1 cx-
No X in the circuit! cx-
performing monte carlo tree search
step in the AQGM envi with respective feature map: 2 cx-Z-
No X in the circuit! cx-Z-
performing monte carlo tree search
step in the AQGM envi with respective feature map: 3 cx-Z-Ry(x;=(x),{x})-
performing monte carlo tree search
step in the AQGM envi with respective feature map: 4 cx-Z-Ry(x;=(x),{x})--
performing monte carlo tree search
step in the AQGM envi with respective feature map: 5 cx-Z-Ry(x;=(x),{x})--Rz(p,x;=y*(x),{y,x})-
better prediction error bound! cx-Z-Ry(x;=(x),{x})--Rz(p,x;=y*(x),{y,x})- 78.74575896420214 1000000.0 5
best overall prediction error and FM: 78.74575896420214 cx-Z-Ry(x;=(x),{x})--Rz(p,x;=y*(x),{y,x})-
performing monte carlo tree search
step in the AQGM envi with respective feature map: 6 cx-Z-Ry(x;=(x),{x})--Rz(p,x;=y*(x),{y,x})-cx-
performing monte carlo tree search
step in the AQGM envi with respective feature map: 7 cx-Z-Ry(x;=(x),{x})--Rz(p,x;=y*(x),{y,x})-cx-cx-
Two same actions in a row!
performing monte carlo tree search
step in the AQGM envi with respective feature map: 8 cx-Z-Ry(x;=(x),{x})--Rz(p,x;=y*(x),{y,x})-cx-cx-cx-
Two same actions in a row!
performing monte carlo tree search
step in the AQGM envi with respective feature map: 9 cx-Z-Ry(x;=(x),{x})--Rz(p,x;=y*(x),{y,x})-cx-cx-cx-cx-
Two same actions in a row!
performing monte carlo tree search
step in the AQGM envi with respective feature map: 10 cx-Z-Ry(x;=(x),{x})--Rz(p,x;=y*(x),{y,x})-cx-cx-cx-cx-cx-
Two same actions in a row!
performing monte carlo tree search
step in the AQGM envi with respective feature map: 11 cx-Z-Ry(x;=(x),{x})--Rz(p,x;=y*(x),{y,x})-cx-cx-cx-cx-cx-cx-
Two same actions in a row!
performing monte carlo tree search
step in the AQGM envi with respective feature map: 1 cx-
No X in the circuit! cx-
performing monte carlo tree search
step in the AQGM envi with respective feature map: 2 cx-Z-
No X in the circuit! cx-Z-
performing monte carlo tree search
step in the AQGM envi with respective feature map: 3 cx-Z-Ry(x;=(x),{x})-
performing monte carlo tree search
step in the AQGM envi with respective feature map: 4 cx-Z-Ry(x;=(x),{x})--
performing monte carlo tree search
step in the AQGM envi with respective feature map: 5 cx-Z-Ry(x;=(x),{x})--Rz(p,x;=y*(x),{y,x})-
better prediction error bound! cx-Z-Ry(x;=(x),{x})--Rz(p,x;=y*(x),{y,x})- 78.74575896420214 1000000.0 5
performing monte carlo tree search
step in the AQGM envi with respective feature map: 6 cx-Z-Ry(x;=(x),{x})--Rz(p,x;=y*(x),{y,x})-cx-
performing monte carlo tree search
step in the AQGM envi with respective feature map: 7 cx-Z-Ry(x;=(x),{x})--Rz(p,x;=y*(x),{y,x})-cx-cx-
Two same actions in a row!
performing monte carlo tree search
step in the AQGM envi with respective feature map: 8 cx-Z-Ry(x;=(x),{x})--Rz(p,x;=y*(x),{y,x})-cx-cx-cx-
Two same actions in a row!
performing monte carlo tree search
step in the AQGM envi with respective feature map: 9 cx-Z-Ry(x;=(x),{x})--Rz(p,x;=y*(x),{y,x})-cx-cx-cx-cx-
Two same actions in a row!
performing monte carlo tree search
step in the AQGM envi with respective feature map: 10 cx-Z-Ry(x;=(x),{x})--Rz(p,x;=y*(x),{y,x})-cx-cx-cx-cx-cx-
Two same actions in a row!
performing monte carlo tree search
step in the AQGM envi with respective feature map: 11 cx-Z-Ry(x;=(x),{x})--Rz(p,x;=y*(x),{y,x})-cx-cx-cx-cx-cx-cx-
Two same actions in a row!
performing monte carlo tree search
step in the AQGM envi with respective feature map: 1 cx-
No X in the circuit! cx-
performing monte carlo tree search
step in the AQGM envi with respective feature map: 2 cx-Z-
No X in the circuit! cx-Z-
performing monte carlo tree search
step in the AQGM envi with respective feature map: 3 cx-Z-Ry(x;=(x),{x})-
performing monte carlo tree search
step in the AQGM envi with respective feature map: 4 cx-Z-Ry(x;=(x),{x})--
performing monte carlo tree search
step in the AQGM envi with respective feature map: 5 cx-Z-Ry(x;=(x),{x})--Rz(p,x;=y*(x),{y,x})-
better prediction error bound! cx-Z-Ry(x;=(x),{x})--Rz(p,x;=y*(x),{y,x})- 78.74575896420214 1000000.0 5
performing monte carlo tree search
step in the AQGM envi with respective feature map: 6 cx-Z-Ry(x;=(x),{x})--Rz(p,x;=y*(x),{y,x})-cx-
performing monte carlo tree search
step in the AQGM envi with respective feature map: 7 cx-Z-Ry(x;=(x),{x})--Rz(p,x;=y*(x),{y,x})-cx-cx-
Two same actions in a row!
performing monte carlo tree search
step in the AQGM envi with respective feature map: 8 cx-Z-Ry(x;=(x),{x})--Rz(p,x;=y*(x),{y,x})-cx-cx-cx-
Two same actions in a row!
performing monte carlo tree search
step in the AQGM envi with respective feature map: 9 cx-Z-Ry(x;=(x),{x})--Rz(p,x;=y*(x),{y,x})-cx-cx-cx-cx-
Two same actions in a row!
performing monte carlo tree search
step in the AQGM envi with respective feature map: 10 cx-Z-Ry(x;=(x),{x})--Rz(p,x;=y*(x),{y,x})-cx-cx-cx-cx-cx-
Two same actions in a row!
performing monte carlo tree search
step in the AQGM envi with respective feature map: 11 cx-Z-Ry(x;=(x),{x})--Rz(p,x;=y*(x),{y,x})-cx-cx-cx-cx-cx-cx-
Two same actions in a row!
performing monte carlo tree search
step in the AQGM envi with respective feature map: 1 cx-
No X in the circuit! cx-
performing monte carlo tree search
step in the AQGM envi with respective feature map: 2 cx-Z-
No X in the circuit! cx-Z-
performing monte carlo tree search
step in the AQGM envi with respective feature map: 3 cx-Z-Ry(x;=(x),{x})-
performing monte carlo tree search
step in the AQGM envi with respective feature map: 4 cx-Z-Ry(x;=(x),{x})--
performing monte carlo tree search
step in the AQGM envi with respective feature map: 5 cx-Z-Ry(x;=(x),{x})--Rz(p,x;=y*(x),{y,x})-
better prediction error bound! cx-Z-Ry(x;=(x),{x})--Rz(p,x;=y*(x),{y,x})- 78.74575896420214 1000000.0 5
performing monte carlo tree search
step in the AQGM envi with respective feature map: 6 cx-Z-Ry(x;=(x),{x})--Rz(p,x;=y*(x),{y,x})-cx-
performing monte carlo tree search
step in the AQGM envi with respective feature map: 7 cx-Z-Ry(x;=(x),{x})--Rz(p,x;=y*(x),{y,x})-cx-cx-
Two same actions in a row!
performing monte carlo tree search
step in the AQGM envi with respective feature map: 8 cx-Z-Ry(x;=(x),{x})--Rz(p,x;=y*(x),{y,x})-cx-cx-cx-
Two same actions in a row!
performing monte carlo tree search
step in the AQGM envi with respective feature map: 9 cx-Z-Ry(x;=(x),{x})--Rz(p,x;=y*(x),{y,x})-cx-cx-cx-cx-
Two same actions in a row!
performing monte carlo tree search
step in the AQGM envi with respective feature map: 10 cx-Z-Ry(x;=(x),{x})--Rz(p,x;=y*(x),{y,x})-cx-cx-cx-cx-cx-
Two same actions in a row!
performing monte carlo tree search
step in the AQGM envi with respective feature map: 11 cx-Z-Ry(x;=(x),{x})--Rz(p,x;=y*(x),{y,x})-cx-cx-cx-cx-cx-cx-
Two same actions in a row!
performing monte carlo tree search
step in the AQGM envi with respective feature map: 1 cx-
No X in the circuit! cx-
performing monte carlo tree search
step in the AQGM envi with respective feature map: 2 cx-Z-
No X in the circuit! cx-Z-
performing monte carlo tree search
step in the AQGM envi with respective feature map: 3 cx-Z-Ry(x;=(x),{x})-
performing monte carlo tree search
step in the AQGM envi with respective feature map: 4 cx-Z-Ry(x;=(x),{x})--
performing monte carlo tree search
step in the AQGM envi with respective feature map: 5 cx-Z-Ry(x;=(x),{x})--Rz(p,x;=y*(x),{y,x})-
better prediction error bound! cx-Z-Ry(x;=(x),{x})--Rz(p,x;=y*(x),{y,x})- 78.74575896420214 1000000.0 5
performing monte carlo tree search
step in the AQGM envi with respective feature map: 6 cx-Z-Ry(x;=(x),{x})--Rz(p,x;=y*(x),{y,x})-cx-
performing monte carlo tree search
step in the AQGM envi with respective feature map: 7 cx-Z-Ry(x;=(x),{x})--Rz(p,x;=y*(x),{y,x})-cx-cx-
Two same actions in a row!
performing monte carlo tree search
step in the AQGM envi with respective feature map: 8 cx-Z-Ry(x;=(x),{x})--Rz(p,x;=y*(x),{y,x})-cx-cx-cx-
Two same actions in a row!
performing monte carlo tree search
step in the AQGM envi with respective feature map: 9 cx-Z-Ry(x;=(x),{x})--Rz(p,x;=y*(x),{y,x})-cx-cx-cx-cx-
Two same actions in a row!
performing monte carlo tree search
step in the AQGM envi with respective feature map: 10 cx-Z-Ry(x;=(x),{x})--Rz(p,x;=y*(x),{y,x})-cx-cx-cx-cx-cx-
Two same actions in a row!
performing monte carlo tree search
step in the AQGM envi with respective feature map: 11 cx-Z-Ry(x;=(x),{x})--Rz(p,x;=y*(x),{y,x})-cx-cx-cx-cx-cx-cx-
Two same actions in a row!
performing monte carlo tree search
step in the AQGM envi with respective feature map: 1 cx-
No X in the circuit! cx-
performing monte carlo tree search
step in the AQGM envi with respective feature map: 2 cx-Z-
No X in the circuit! cx-Z-
performing monte carlo tree search
step in the AQGM envi with respective feature map: 3 cx-Z-Ry(x;=(x),{x})-
performing monte carlo tree search
step in the AQGM envi with respective feature map: 4 cx-Z-Ry(x;=(x),{x})--
performing monte carlo tree search
step in the AQGM envi with respective feature map: 5 cx-Z-Ry(x;=(x),{x})--Rz(p,x;=y*(x),{y,x})-
better prediction error bound! cx-Z-Ry(x;=(x),{x})--Rz(p,x;=y*(x),{y,x})- 78.74575896420214 1000000.0 5
performing monte carlo tree search
step in the AQGM envi with respective feature map: 6 cx-Z-Ry(x;=(x),{x})--Rz(p,x;=y*(x),{y,x})-cx-
performing monte carlo tree search
step in the AQGM envi with respective feature map: 7 cx-Z-Ry(x;=(x),{x})--Rz(p,x;=y*(x),{y,x})-cx-cx-
Two same actions in a row!
performing monte carlo tree search
step in the AQGM envi with respective feature map: 8 cx-Z-Ry(x;=(x),{x})--Rz(p,x;=y*(x),{y,x})-cx-cx-cx-
Two same actions in a row!
performing monte carlo tree search
step in the AQGM envi with respective feature map: 9 cx-Z-Ry(x;=(x),{x})--Rz(p,x;=y*(x),{y,x})-cx-cx-cx-cx-
Two same actions in a row!
performing monte carlo tree search
step in the AQGM envi with respective feature map: 10 cx-Z-Ry(x;=(x),{x})--Rz(p,x;=y*(x),{y,x})-cx-cx-cx-cx-cx-
Two same actions in a row!
performing monte carlo tree search
step in the AQGM envi with respective feature map: 11 cx-Z-Ry(x;=(x),{x})--Rz(p,x;=y*(x),{y,x})-cx-cx-cx-cx-cx-cx-
Two same actions in a row!
performing monte carlo tree search
step in the AQGM envi with respective feature map: 1 cx-
No X in the circuit! cx-
performing monte carlo tree search
step in the AQGM envi with respective feature map: 2 cx-Z-
No X in the circuit! cx-Z-
performing monte carlo tree search
step in the AQGM envi with respective feature map: 3 cx-Z-Ry(x;=(x),{x})-
performing monte carlo tree search
step in the AQGM envi with respective feature map: 4 cx-Z-Ry(x;=(x),{x})--
performing monte carlo tree search
step in the AQGM envi with respective feature map: 5 cx-Z-Ry(x;=(x),{x})--Rz(p,x;=y*(x),{y,x})-
better prediction error bound! cx-Z-Ry(x;=(x),{x})--Rz(p,x;=y*(x),{y,x})- 78.74575896420214 1000000.0 5
performing monte carlo tree search
step in the AQGM envi with respective feature map: 6 cx-Z-Ry(x;=(x),{x})--Rz(p,x;=y*(x),{y,x})-cx-
performing monte carlo tree search
step in the AQGM envi with respective feature map: 7 cx-Z-Ry(x;=(x),{x})--Rz(p,x;=y*(x),{y,x})-cx-cx-
Two same actions in a row!
performing monte carlo tree search
step in the AQGM envi with respective feature map: 8 cx-Z-Ry(x;=(x),{x})--Rz(p,x;=y*(x),{y,x})-cx-cx-cx-
Two same actions in a row!
performing monte carlo tree search
step in the AQGM envi with respective feature map: 9 cx-Z-Ry(x;=(x),{x})--Rz(p,x;=y*(x),{y,x})-cx-cx-cx-cx-
Two same actions in a row!
performing monte carlo tree search
step in the AQGM envi with respective feature map: 10 cx-Z-Ry(x;=(x),{x})--Rz(p,x;=y*(x),{y,x})-cx-cx-cx-cx-cx-
Two same actions in a row!
performing monte carlo tree search
step in the AQGM envi with respective feature map: 11 cx-Z-Ry(x;=(x),{x})--Rz(p,x;=y*(x),{y,x})-cx-cx-cx-cx-cx-cx-
Two same actions in a row!
performing monte carlo tree search
step in the AQGM envi with respective feature map: 1 cx-
No X in the circuit! cx-
performing monte carlo tree search
step in the AQGM envi with respective feature map: 2 cx-Z-
No X in the circuit! cx-Z-
performing monte carlo tree search
step in the AQGM envi with respective feature map: 3 cx-Z-Ry(x;=(x),{x})-
performing monte carlo tree search
step in the AQGM envi with respective feature map: 4 cx-Z-Ry(x;=(x),{x})--
performing monte carlo tree search
step in the AQGM envi with respective feature map: 5 cx-Z-Ry(x;=(x),{x})--Rz(p,x;=y*(x),{y,x})-
better prediction error bound! cx-Z-Ry(x;=(x),{x})--Rz(p,x;=y*(x),{y,x})- 78.74575896420214 1000000.0 5
performing monte carlo tree search
step in the AQGM envi with respective feature map: 6 cx-Z-Ry(x;=(x),{x})--Rz(p,x;=y*(x),{y,x})-cx-
performing monte carlo tree search
step in the AQGM envi with respective feature map: 7 cx-Z-Ry(x;=(x),{x})--Rz(p,x;=y*(x),{y,x})-cx-cx-
Two same actions in a row!
performing monte carlo tree search
step in the AQGM envi with respective feature map: 8 cx-Z-Ry(x;=(x),{x})--Rz(p,x;=y*(x),{y,x})-cx-cx-cx-
Two same actions in a row!
performing monte carlo tree search
step in the AQGM envi with respective feature map: 9 cx-Z-Ry(x;=(x),{x})--Rz(p,x;=y*(x),{y,x})-cx-cx-cx-cx-
Two same actions in a row!
performing monte carlo tree search
step in the AQGM envi with respective feature map: 10 cx-Z-Ry(x;=(x),{x})--Rz(p,x;=y*(x),{y,x})-cx-cx-cx-cx-cx-
Two same actions in a row!
performing monte carlo tree search
step in the AQGM envi with respective feature map: 11 cx-Z-Ry(x;=(x),{x})--Rz(p,x;=y*(x),{y,x})-cx-cx-cx-cx-cx-cx-
Two same actions in a row!
performing monte carlo tree search
step in the AQGM envi with respective feature map: 1 cx-
No X in the circuit! cx-
performing monte carlo tree search
step in the AQGM envi with respective feature map: 2 cx-Z-
No X in the circuit! cx-Z-
performing monte carlo tree search
step in the AQGM envi with respective feature map: 3 cx-Z-Ry(x;=(x),{x})-
performing monte carlo tree search
step in the AQGM envi with respective feature map: 4 cx-Z-Ry(x;=(x),{x})--
performing monte carlo tree search
step in the AQGM envi with respective feature map: 5 cx-Z-Ry(x;=(x),{x})--Rz(p,x;=y*(x),{y,x})-
better prediction error bound! cx-Z-Ry(x;=(x),{x})--Rz(p,x;=y*(x),{y,x})- 78.74575896420214 1000000.0 5
performing monte carlo tree search
step in the AQGM envi with respective feature map: 6 cx-Z-Ry(x;=(x),{x})--Rz(p,x;=y*(x),{y,x})-cx-
performing monte carlo tree search
step in the AQGM envi with respective feature map: 7 cx-Z-Ry(x;=(x),{x})--Rz(p,x;=y*(x),{y,x})-cx-cx-
Two same actions in a row!
performing monte carlo tree search
step in the AQGM envi with respective feature map: 8 cx-Z-Ry(x;=(x),{x})--Rz(p,x;=y*(x),{y,x})-cx-cx-cx-
Two same actions in a row!
performing monte carlo tree search
step in the AQGM envi with respective feature map: 9 cx-Z-Ry(x;=(x),{x})--Rz(p,x;=y*(x),{y,x})-cx-cx-cx-cx-
Two same actions in a row!
performing monte carlo tree search
step in the AQGM envi with respective feature map: 10 cx-Z-Ry(x;=(x),{x})--Rz(p,x;=y*(x),{y,x})-cx-cx-cx-cx-cx-
Two same actions in a row!
performing monte carlo tree search
step in the AQGM envi with respective feature map: 11 cx-Z-Ry(x;=(x),{x})--Rz(p,x;=y*(x),{y,x})-cx-cx-cx-cx-cx-cx-
Two same actions in a row!
performing monte carlo tree search
step in the AQGM envi with respective feature map: 1 cx-
No X in the circuit! cx-
performing monte carlo tree search
step in the AQGM envi with respective feature map: 2 cx-Z-
No X in the circuit! cx-Z-
performing monte carlo tree search
step in the AQGM envi with respective feature map: 3 cx-Z-Ry(x;=(x),{x})-
performing monte carlo tree search
step in the AQGM envi with respective feature map: 4 cx-Z-Ry(x;=(x),{x})--
performing monte carlo tree search
step in the AQGM envi with respective feature map: 5 cx-Z-Ry(x;=(x),{x})--Rz(p,x;=y*(x),{y,x})-
better prediction error bound! cx-Z-Ry(x;=(x),{x})--Rz(p,x;=y*(x),{y,x})- 78.74575896420214 1000000.0 5
performing monte carlo tree search
step in the AQGM envi with respective feature map: 6 cx-Z-Ry(x;=(x),{x})--Rz(p,x;=y*(x),{y,x})-cx-
performing monte carlo tree search
step in the AQGM envi with respective feature map: 7 cx-Z-Ry(x;=(x),{x})--Rz(p,x;=y*(x),{y,x})-cx-cx-
Two same actions in a row!
performing monte carlo tree search
step in the AQGM envi with respective feature map: 8 cx-Z-Ry(x;=(x),{x})--Rz(p,x;=y*(x),{y,x})-cx-cx-cx-
Two same actions in a row!
performing monte carlo tree search
step in the AQGM envi with respective feature map: 9 cx-Z-Ry(x;=(x),{x})--Rz(p,x;=y*(x),{y,x})-cx-cx-cx-cx-
Two same actions in a row!
performing monte carlo tree search
step in the AQGM envi with respective feature map: 10 cx-Z-Ry(x;=(x),{x})--Rz(p,x;=y*(x),{y,x})-cx-cx-cx-cx-cx-
Two same actions in a row!
performing monte carlo tree search
step in the AQGM envi with respective feature map: 11 cx-Z-Ry(x;=(x),{x})--Rz(p,x;=y*(x),{y,x})-cx-cx-cx-cx-cx-cx-
Two same actions in a row!
performing monte carlo tree search
step in the AQGM envi with respective feature map: 1 cx-
No X in the circuit! cx-
performing monte carlo tree search
step in the AQGM envi with respective feature map: 2 cx-Z-
No X in the circuit! cx-Z-
performing monte carlo tree search
step in the AQGM envi with respective feature map: 3 cx-Z-Ry(x;=(x),{x})-
performing monte carlo tree search
step in the AQGM envi with respective feature map: 4 cx-Z-Ry(x;=(x),{x})--
performing monte carlo tree search
step in the AQGM envi with respective feature map: 5 cx-Z-Ry(x;=(x),{x})--Rz(p,x;=y*(x),{y,x})-
better prediction error bound! cx-Z-Ry(x;=(x),{x})--Rz(p,x;=y*(x),{y,x})- 78.74575896420214 1000000.0 5
performing monte carlo tree search
step in the AQGM envi with respective feature map: 6 cx-Z-Ry(x;=(x),{x})--Rz(p,x;=y*(x),{y,x})-cx-
performing monte carlo tree search
step in the AQGM envi with respective feature map: 7 cx-Z-Ry(x;=(x),{x})--Rz(p,x;=y*(x),{y,x})-cx-cx-
Two same actions in a row!
performing monte carlo tree search
step in the AQGM envi with respective feature map: 8 cx-Z-Ry(x;=(x),{x})--Rz(p,x;=y*(x),{y,x})-cx-cx-cx-
Two same actions in a row!
performing monte carlo tree search
step in the AQGM envi with respective feature map: 9 cx-Z-Ry(x;=(x),{x})--Rz(p,x;=y*(x),{y,x})-cx-cx-cx-cx-
Two same actions in a row!
performing monte carlo tree search
step in the AQGM envi with respective feature map: 10 cx-Z-Ry(x;=(x),{x})--Rz(p,x;=y*(x),{y,x})-cx-cx-cx-cx-cx-
Two same actions in a row!
performing monte carlo tree search
step in the AQGM envi with respective feature map: 11 cx-Z-Ry(x;=(x),{x})--Rz(p,x;=y*(x),{y,x})-cx-cx-cx-cx-cx-cx-
Two same actions in a row!
performing monte carlo tree search
step in the AQGM envi with respective feature map: 1 cx-
No X in the circuit! cx-
performing monte carlo tree search
step in the AQGM envi with respective feature map: 2 cx-Z-
No X in the circuit! cx-Z-
performing monte carlo tree search
step in the AQGM envi with respective feature map: 3 cx-Z-Ry(x;=(x),{x})-
performing monte carlo tree search
step in the AQGM envi with respective feature map: 4 cx-Z-Ry(x;=(x),{x})--
performing monte carlo tree search
step in the AQGM envi with respective feature map: 5 cx-Z-Ry(x;=(x),{x})--Rz(p,x;=y*(x),{y,x})-
better prediction error bound! cx-Z-Ry(x;=(x),{x})--Rz(p,x;=y*(x),{y,x})- 78.74575896420214 1000000.0 5
performing monte carlo tree search
step in the AQGM envi with respective feature map: 6 cx-Z-Ry(x;=(x),{x})--Rz(p,x;=y*(x),{y,x})-cx-
performing monte carlo tree search
step in the AQGM envi with respective feature map: 7 cx-Z-Ry(x;=(x),{x})--Rz(p,x;=y*(x),{y,x})-cx-cx-
Two same actions in a row!
performing monte carlo tree search
step in the AQGM envi with respective feature map: 8 cx-Z-Ry(x;=(x),{x})--Rz(p,x;=y*(x),{y,x})-cx-cx-cx-
Two same actions in a row!
performing monte carlo tree search
step in the AQGM envi with respective feature map: 9 cx-Z-Ry(x;=(x),{x})--Rz(p,x;=y*(x),{y,x})-cx-cx-cx-cx-
Two same actions in a row!
performing monte carlo tree search
step in the AQGM envi with respective feature map: 10 cx-Z-Ry(x;=(x),{x})--Rz(p,x;=y*(x),{y,x})-cx-cx-cx-cx-cx-
Two same actions in a row!
performing monte carlo tree search
step in the AQGM envi with respective feature map: 11 cx-Z-Ry(x;=(x),{x})--Rz(p,x;=y*(x),{y,x})-cx-cx-cx-cx-cx-cx-
Two same actions in a row!
performing monte carlo tree search
step in the AQGM envi with respective feature map: 1 cx-
No X in the circuit! cx-
performing monte carlo tree search
step in the AQGM envi with respective feature map: 2 cx-Z-
No X in the circuit! cx-Z-
performing monte carlo tree search
step in the AQGM envi with respective feature map: 3 cx-Z-Ry(x;=(x),{x})-
performing monte carlo tree search
step in the AQGM envi with respective feature map: 4 cx-Z-Ry(x;=(x),{x})--
performing monte carlo tree search
step in the AQGM envi with respective feature map: 5 cx-Z-Ry(x;=(x),{x})--Rz(p,x;=y*(x),{y,x})-
better prediction error bound! cx-Z-Ry(x;=(x),{x})--Rz(p,x;=y*(x),{y,x})- 78.74575896420214 1000000.0 5
performing monte carlo tree search
step in the AQGM envi with respective feature map: 6 cx-Z-Ry(x;=(x),{x})--Rz(p,x;=y*(x),{y,x})-cx-
performing monte carlo tree search
step in the AQGM envi with respective feature map: 7 cx-Z-Ry(x;=(x),{x})--Rz(p,x;=y*(x),{y,x})-cx-cx-
Two same actions in a row!
performing monte carlo tree search
step in the AQGM envi with respective feature map: 8 cx-Z-Ry(x;=(x),{x})--Rz(p,x;=y*(x),{y,x})-cx-cx-cx-
Two same actions in a row!
performing monte carlo tree search
step in the AQGM envi with respective feature map: 9 cx-Z-Ry(x;=(x),{x})--Rz(p,x;=y*(x),{y,x})-cx-cx-cx-cx-
Two same actions in a row!
performing monte carlo tree search
step in the AQGM envi with respective feature map: 10 cx-Z-Ry(x;=(x),{x})--Rz(p,x;=y*(x),{y,x})-cx-cx-cx-cx-cx-
Two same actions in a row!
performing monte carlo tree search
step in the AQGM envi with respective feature map: 11 cx-Z-Ry(x;=(x),{x})--Rz(p,x;=y*(x),{y,x})-cx-cx-cx-cx-cx-cx-
Two same actions in a row!
performing monte carlo tree search
step in the AQGM envi with respective feature map: 1 cx-
No X in the circuit! cx-
performing monte carlo tree search
step in the AQGM envi with respective feature map: 2 cx-Z-
No X in the circuit! cx-Z-
performing monte carlo tree search
step in the AQGM envi with respective feature map: 3 cx-Z-Ry(x;=(x),{x})-
performing monte carlo tree search
step in the AQGM envi with respective feature map: 4 cx-Z-Ry(x;=(x),{x})--
performing monte carlo tree search
step in the AQGM envi with respective feature map: 5 cx-Z-Ry(x;=(x),{x})--Rz(p,x;=y*(x),{y,x})-
better prediction error bound! cx-Z-Ry(x;=(x),{x})--Rz(p,x;=y*(x),{y,x})- 78.74575896420214 1000000.0 5
performing monte carlo tree search
step in the AQGM envi with respective feature map: 6 cx-Z-Ry(x;=(x),{x})--Rz(p,x;=y*(x),{y,x})-cx-
performing monte carlo tree search
step in the AQGM envi with respective feature map: 7 cx-Z-Ry(x;=(x),{x})--Rz(p,x;=y*(x),{y,x})-cx-cx-
Two same actions in a row!
performing monte carlo tree search
step in the AQGM envi with respective feature map: 8 cx-Z-Ry(x;=(x),{x})--Rz(p,x;=y*(x),{y,x})-cx-cx-cx-
Two same actions in a row!
performing monte carlo tree search
step in the AQGM envi with respective feature map: 9 cx-Z-Ry(x;=(x),{x})--Rz(p,x;=y*(x),{y,x})-cx-cx-cx-cx-
Two same actions in a row!
performing monte carlo tree search
step in the AQGM envi with respective feature map: 10 cx-Z-Ry(x;=(x),{x})--Rz(p,x;=y*(x),{y,x})-cx-cx-cx-cx-cx-
Two same actions in a row!
performing monte carlo tree search
step in the AQGM envi with respective feature map: 11 cx-Z-Ry(x;=(x),{x})--Rz(p,x;=y*(x),{y,x})-cx-cx-cx-cx-cx-cx-
Two same actions in a row!
performing monte carlo tree search
step in the AQGM envi with respective feature map: 1 cx-
No X in the circuit! cx-
performing monte carlo tree search
step in the AQGM envi with respective feature map: 2 cx-Z-
No X in the circuit! cx-Z-
performing monte carlo tree search
step in the AQGM envi with respective feature map: 3 cx-Z-Ry(x;=(x),{x})-
performing monte carlo tree search
step in the AQGM envi with respective feature map: 4 cx-Z-Ry(x;=(x),{x})--
performing monte carlo tree search
step in the AQGM envi with respective feature map: 5 cx-Z-Ry(x;=(x),{x})--Rz(p,x;=y*(x),{y,x})-
better prediction error bound! cx-Z-Ry(x;=(x),{x})--Rz(p,x;=y*(x),{y,x})- 78.74575896420214 1000000.0 5
performing monte carlo tree search
step in the AQGM envi with respective feature map: 6 cx-Z-Ry(x;=(x),{x})--Rz(p,x;=y*(x),{y,x})-cx-
performing monte carlo tree search
step in the AQGM envi with respective feature map: 7 cx-Z-Ry(x;=(x),{x})--Rz(p,x;=y*(x),{y,x})-cx-cx-
Two same actions in a row!
performing monte carlo tree search
step in the AQGM envi with respective feature map: 8 cx-Z-Ry(x;=(x),{x})--Rz(p,x;=y*(x),{y,x})-cx-cx-cx-
Two same actions in a row!
performing monte carlo tree search
step in the AQGM envi with respective feature map: 9 cx-Z-Ry(x;=(x),{x})--Rz(p,x;=y*(x),{y,x})-cx-cx-cx-cx-
Two same actions in a row!
performing monte carlo tree search
step in the AQGM envi with respective feature map: 10 cx-Z-Ry(x;=(x),{x})--Rz(p,x;=y*(x),{y,x})-cx-cx-cx-cx-cx-
Two same actions in a row!
performing monte carlo tree search
step in the AQGM envi with respective feature map: 11 cx-Z-Ry(x;=(x),{x})--Rz(p,x;=y*(x),{y,x})-cx-cx-cx-cx-cx-cx-
Two same actions in a row!
performing monte carlo tree search
step in the AQGM envi with respective feature map: 1 cx-
No X in the circuit! cx-
performing monte carlo tree search
step in the AQGM envi with respective feature map: 2 cx-Z-
No X in the circuit! cx-Z-
performing monte carlo tree search
step in the AQGM envi with respective feature map: 3 cx-Z-Ry(x;=(x),{x})-
performing monte carlo tree search
step in the AQGM envi with respective feature map: 4 cx-Z-Ry(x;=(x),{x})--
performing monte carlo tree search
step in the AQGM envi with respective feature map: 5 cx-Z-Ry(x;=(x),{x})--Rz(p,x;=y*(x),{y,x})-
better prediction error bound! cx-Z-Ry(x;=(x),{x})--Rz(p,x;=y*(x),{y,x})- 78.74575896420214 1000000.0 5
performing monte carlo tree search
step in the AQGM envi with respective feature map: 6 cx-Z-Ry(x;=(x),{x})--Rz(p,x;=y*(x),{y,x})-cx-
performing monte carlo tree search
step in the AQGM envi with respective feature map: 7 cx-Z-Ry(x;=(x),{x})--Rz(p,x;=y*(x),{y,x})-cx-cx-
Two same actions in a row!
performing monte carlo tree search
step in the AQGM envi with respective feature map: 8 cx-Z-Ry(x;=(x),{x})--Rz(p,x;=y*(x),{y,x})-cx-cx-cx-
Two same actions in a row!
performing monte carlo tree search
step in the AQGM envi with respective feature map: 9 cx-Z-Ry(x;=(x),{x})--Rz(p,x;=y*(x),{y,x})-cx-cx-cx-cx-
Two same actions in a row!
performing monte carlo tree search
step in the AQGM envi with respective feature map: 10 cx-Z-Ry(x;=(x),{x})--Rz(p,x;=y*(x),{y,x})-cx-cx-cx-cx-cx-
Two same actions in a row!
performing monte carlo tree search
step in the AQGM envi with respective feature map: 11 cx-Z-Ry(x;=(x),{x})--Rz(p,x;=y*(x),{y,x})-cx-cx-cx-cx-cx-cx-
Two same actions in a row!
performing monte carlo tree search
step in the AQGM envi with respective feature map: 1 cx-
No X in the circuit! cx-
performing monte carlo tree search
step in the AQGM envi with respective feature map: 2 cx-Z-
No X in the circuit! cx-Z-
performing monte carlo tree search
step in the AQGM envi with respective feature map: 3 cx-Z-Ry(x;=(x),{x})-
performing monte carlo tree search
step in the AQGM envi with respective feature map: 4 cx-Z-Ry(x;=(x),{x})--
performing monte carlo tree search
step in the AQGM envi with respective feature map: 5 cx-Z-Ry(x;=(x),{x})--Rz(p,x;=y*(x),{y,x})-
better prediction error bound! cx-Z-Ry(x;=(x),{x})--Rz(p,x;=y*(x),{y,x})- 78.74575896420214 1000000.0 5
performing monte carlo tree search
step in the AQGM envi with respective feature map: 6 cx-Z-Ry(x;=(x),{x})--Rz(p,x;=y*(x),{y,x})-cx-
performing monte carlo tree search
step in the AQGM envi with respective feature map: 7 cx-Z-Ry(x;=(x),{x})--Rz(p,x;=y*(x),{y,x})-cx-cx-
Two same actions in a row!
performing monte carlo tree search
step in the AQGM envi with respective feature map: 8 cx-Z-Ry(x;=(x),{x})--Rz(p,x;=y*(x),{y,x})-cx-cx-cx-
Two same actions in a row!
performing monte carlo tree search
step in the AQGM envi with respective feature map: 9 cx-Z-Ry(x;=(x),{x})--Rz(p,x;=y*(x),{y,x})-cx-cx-cx-cx-
Two same actions in a row!
performing monte carlo tree search
step in the AQGM envi with respective feature map: 10 cx-Z-Ry(x;=(x),{x})--Rz(p,x;=y*(x),{y,x})-cx-cx-cx-cx-cx-
Two same actions in a row!
performing monte carlo tree search
step in the AQGM envi with respective feature map: 11 cx-Z-Ry(x;=(x),{x})--Rz(p,x;=y*(x),{y,x})-cx-cx-cx-cx-cx-cx-
Two same actions in a row!
performing monte carlo tree search
step in the AQGM envi with respective feature map: 1 cx-
No X in the circuit! cx-
performing monte carlo tree search
step in the AQGM envi with respective feature map: 2 cx-Z-
No X in the circuit! cx-Z-
performing monte carlo tree search
step in the AQGM envi with respective feature map: 3 cx-Z-Ry(x;=(x),{x})-
performing monte carlo tree search
step in the AQGM envi with respective feature map: 4 cx-Z-Ry(x;=(x),{x})--
performing monte carlo tree search
step in the AQGM envi with respective feature map: 5 cx-Z-Ry(x;=(x),{x})--Rz(p,x;=y*(x),{y,x})-
better prediction error bound! cx-Z-Ry(x;=(x),{x})--Rz(p,x;=y*(x),{y,x})- 78.74575896420214 1000000.0 5
performing monte carlo tree search
step in the AQGM envi with respective feature map: 6 cx-Z-Ry(x;=(x),{x})--Rz(p,x;=y*(x),{y,x})-cx-
performing monte carlo tree search
step in the AQGM envi with respective feature map: 7 cx-Z-Ry(x;=(x),{x})--Rz(p,x;=y*(x),{y,x})-cx-cx-
Two same actions in a row!
performing monte carlo tree search
step in the AQGM envi with respective feature map: 8 cx-Z-Ry(x;=(x),{x})--Rz(p,x;=y*(x),{y,x})-cx-cx-cx-
Two same actions in a row!
performing monte carlo tree search
step in the AQGM envi with respective feature map: 9 cx-Z-Ry(x;=(x),{x})--Rz(p,x;=y*(x),{y,x})-cx-cx-cx-cx-
Two same actions in a row!
performing monte carlo tree search
step in the AQGM envi with respective feature map: 10 cx-Z-Ry(x;=(x),{x})--Rz(p,x;=y*(x),{y,x})-cx-cx-cx-cx-cx-
Two same actions in a row!
performing monte carlo tree search
step in the AQGM envi with respective feature map: 11 cx-Z-Ry(x;=(x),{x})--Rz(p,x;=y*(x),{y,x})-cx-cx-cx-cx-cx-cx-
Two same actions in a row!
performing monte carlo tree search
step in the AQGM envi with respective feature map: 1 cx-
No X in the circuit! cx-
performing monte carlo tree search
step in the AQGM envi with respective feature map: 2 cx-Z-
No X in the circuit! cx-Z-
performing monte carlo tree search
step in the AQGM envi with respective feature map: 3 cx-Z-Ry(x;=(x),{x})-
performing monte carlo tree search
step in the AQGM envi with respective feature map: 4 cx-Z-Ry(x;=(x),{x})--
performing monte carlo tree search
step in the AQGM envi with respective feature map: 5 cx-Z-Ry(x;=(x),{x})--Rz(p,x;=y*(x),{y,x})-
better prediction error bound! cx-Z-Ry(x;=(x),{x})--Rz(p,x;=y*(x),{y,x})- 78.74575896420214 1000000.0 5
performing monte carlo tree search
step in the AQGM envi with respective feature map: 6 cx-Z-Ry(x;=(x),{x})--Rz(p,x;=y*(x),{y,x})-cx-
performing monte carlo tree search
step in the AQGM envi with respective feature map: 7 cx-Z-Ry(x;=(x),{x})--Rz(p,x;=y*(x),{y,x})-cx-cx-
Two same actions in a row!
performing monte carlo tree search
step in the AQGM envi with respective feature map: 8 cx-Z-Ry(x;=(x),{x})--Rz(p,x;=y*(x),{y,x})-cx-cx-cx-
Two same actions in a row!
performing monte carlo tree search
step in the AQGM envi with respective feature map: 9 cx-Z-Ry(x;=(x),{x})--Rz(p,x;=y*(x),{y,x})-cx-cx-cx-cx-
Two same actions in a row!
performing monte carlo tree search
step in the AQGM envi with respective feature map: 10 cx-Z-Ry(x;=(x),{x})--Rz(p,x;=y*(x),{y,x})-cx-cx-cx-cx-cx-
Two same actions in a row!
performing monte carlo tree search
step in the AQGM envi with respective feature map: 11 cx-Z-Ry(x;=(x),{x})--Rz(p,x;=y*(x),{y,x})-cx-cx-cx-cx-cx-cx-
Two same actions in a row!
performing monte carlo tree search
step in the AQGM envi with respective feature map: 1 cx-
No X in the circuit! cx-
performing monte carlo tree search
step in the AQGM envi with respective feature map: 2 cx-Z-
No X in the circuit! cx-Z-
performing monte carlo tree search
step in the AQGM envi with respective feature map: 3 cx-Z-Ry(x;=(x),{x})-
performing monte carlo tree search
step in the AQGM envi with respective feature map: 4 cx-Z-Ry(x;=(x),{x})--
performing monte carlo tree search
step in the AQGM envi with respective feature map: 5 cx-Z-Ry(x;=(x),{x})--Rz(p,x;=y*(x),{y,x})-
better prediction error bound! cx-Z-Ry(x;=(x),{x})--Rz(p,x;=y*(x),{y,x})- 78.74575896420214 1000000.0 5
performing monte carlo tree search
step in the AQGM envi with respective feature map: 6 cx-Z-Ry(x;=(x),{x})--Rz(p,x;=y*(x),{y,x})-cx-
performing monte carlo tree search
step in the AQGM envi with respective feature map: 7 cx-Z-Ry(x;=(x),{x})--Rz(p,x;=y*(x),{y,x})-cx-cx-
Two same actions in a row!
performing monte carlo tree search
step in the AQGM envi with respective feature map: 8 cx-Z-Ry(x;=(x),{x})--Rz(p,x;=y*(x),{y,x})-cx-cx-cx-
Two same actions in a row!
performing monte carlo tree search
step in the AQGM envi with respective feature map: 9 cx-Z-Ry(x;=(x),{x})--Rz(p,x;=y*(x),{y,x})-cx-cx-cx-cx-
Two same actions in a row!
performing monte carlo tree search
step in the AQGM envi with respective feature map: 10 cx-Z-Ry(x;=(x),{x})--Rz(p,x;=y*(x),{y,x})-cx-cx-cx-cx-cx-
Two same actions in a row!
performing monte carlo tree search
step in the AQGM envi with respective feature map: 11 cx-Z-Ry(x;=(x),{x})--Rz(p,x;=y*(x),{y,x})-cx-cx-cx-cx-cx-cx-
Two same actions in a row!
performing monte carlo tree search
step in the AQGM envi with respective feature map: 1 cx-
No X in the circuit! cx-
performing monte carlo tree search
step in the AQGM envi with respective feature map: 2 cx-Z-
No X in the circuit! cx-Z-
performing monte carlo tree search
step in the AQGM envi with respective feature map: 3 cx-Z-Ry(x;=(x),{x})-
performing monte carlo tree search
step in the AQGM envi with respective feature map: 4 cx-Z-Ry(x;=(x),{x})--
performing monte carlo tree search
step in the AQGM envi with respective feature map: 5 cx-Z-Ry(x;=(x),{x})--Rz(p,x;=y*(x),{y,x})-
better prediction error bound! cx-Z-Ry(x;=(x),{x})--Rz(p,x;=y*(x),{y,x})- 78.74575896420214 1000000.0 5
performing monte carlo tree search
step in the AQGM envi with respective feature map: 6 cx-Z-Ry(x;=(x),{x})--Rz(p,x;=y*(x),{y,x})-cx-
performing monte carlo tree search
step in the AQGM envi with respective feature map: 7 cx-Z-Ry(x;=(x),{x})--Rz(p,x;=y*(x),{y,x})-cx-cx-
Two same actions in a row!
performing monte carlo tree search
step in the AQGM envi with respective feature map: 8 cx-Z-Ry(x;=(x),{x})--Rz(p,x;=y*(x),{y,x})-cx-cx-cx-
Two same actions in a row!
performing monte carlo tree search
step in the AQGM envi with respective feature map: 9 cx-Z-Ry(x;=(x),{x})--Rz(p,x;=y*(x),{y,x})-cx-cx-cx-cx-
Two same actions in a row!
performing monte carlo tree search
step in the AQGM envi with respective feature map: 10 cx-Z-Ry(x;=(x),{x})--Rz(p,x;=y*(x),{y,x})-cx-cx-cx-cx-cx-
Two same actions in a row!
performing monte carlo tree search
step in the AQGM envi with respective feature map: 11 cx-Z-Ry(x;=(x),{x})--Rz(p,x;=y*(x),{y,x})-cx-cx-cx-cx-cx-cx-
Two same actions in a row!
performing monte carlo tree search
step in the AQGM envi with respective feature map: 1 cx-
No X in the circuit! cx-
performing monte carlo tree search
step in the AQGM envi with respective feature map: 2 cx-Z-
No X in the circuit! cx-Z-
performing monte carlo tree search
step in the AQGM envi with respective feature map: 3 cx-Z-Ry(x;=(x),{x})-
performing monte carlo tree search
step in the AQGM envi with respective feature map: 4 cx-Z-Ry(x;=(x),{x})--
performing monte carlo tree search
step in the AQGM envi with respective feature map: 5 cx-Z-Ry(x;=(x),{x})--Rz(p,x;=y*(x),{y,x})-
better prediction error bound! cx-Z-Ry(x;=(x),{x})--Rz(p,x;=y*(x),{y,x})- 78.74575896420214 1000000.0 5
performing monte carlo tree search
step in the AQGM envi with respective feature map: 6 cx-Z-Ry(x;=(x),{x})--Rz(p,x;=y*(x),{y,x})-cx-
performing monte carlo tree search
step in the AQGM envi with respective feature map: 7 cx-Z-Ry(x;=(x),{x})--Rz(p,x;=y*(x),{y,x})-cx-cx-
Two same actions in a row!
performing monte carlo tree search
step in the AQGM envi with respective feature map: 8 cx-Z-Ry(x;=(x),{x})--Rz(p,x;=y*(x),{y,x})-cx-cx-cx-
Two same actions in a row!
performing monte carlo tree search
step in the AQGM envi with respective feature map: 9 cx-Z-Ry(x;=(x),{x})--Rz(p,x;=y*(x),{y,x})-cx-cx-cx-cx-
Two same actions in a row!
performing monte carlo tree search
step in the AQGM envi with respective feature map: 10 cx-Z-Ry(x;=(x),{x})--Rz(p,x;=y*(x),{y,x})-cx-cx-cx-cx-cx-
Two same actions in a row!
performing monte carlo tree search
step in the AQGM envi with respective feature map: 11 cx-Z-Ry(x;=(x),{x})--Rz(p,x;=y*(x),{y,x})-cx-cx-cx-cx-cx-cx-
Two same actions in a row!
performing monte carlo tree search
step in the AQGM envi with respective feature map: 1 cx-
No X in the circuit! cx-
performing monte carlo tree search
step in the AQGM envi with respective feature map: 2 cx-Z-
No X in the circuit! cx-Z-
performing monte carlo tree search
step in the AQGM envi with respective feature map: 3 cx-Z-Ry(x;=(x),{x})-
performing monte carlo tree search
step in the AQGM envi with respective feature map: 4 cx-Z-Ry(x;=(x),{x})--
performing monte carlo tree search
step in the AQGM envi with respective feature map: 5 cx-Z-Ry(x;=(x),{x})--Rz(p,x;=y*(x),{y,x})-
better prediction error bound! cx-Z-Ry(x;=(x),{x})--Rz(p,x;=y*(x),{y,x})- 78.74575896420214 1000000.0 5
performing monte carlo tree search
step in the AQGM envi with respective feature map: 6 cx-Z-Ry(x;=(x),{x})--Rz(p,x;=y*(x),{y,x})-cx-
performing monte carlo tree search
step in the AQGM envi with respective feature map: 7 cx-Z-Ry(x;=(x),{x})--Rz(p,x;=y*(x),{y,x})-cx-cx-
Two same actions in a row!
performing monte carlo tree search
step in the AQGM envi with respective feature map: 8 cx-Z-Ry(x;=(x),{x})--Rz(p,x;=y*(x),{y,x})-cx-cx-cx-
Two same actions in a row!
performing monte carlo tree search
step in the AQGM envi with respective feature map: 9 cx-Z-Ry(x;=(x),{x})--Rz(p,x;=y*(x),{y,x})-cx-cx-cx-cx-
Two same actions in a row!
performing monte carlo tree search
step in the AQGM envi with respective feature map: 10 cx-Z-Ry(x;=(x),{x})--Rz(p,x;=y*(x),{y,x})-cx-cx-cx-cx-cx-
Two same actions in a row!
performing monte carlo tree search
step in the AQGM envi with respective feature map: 11 cx-Z-Ry(x;=(x),{x})--Rz(p,x;=y*(x),{y,x})-cx-cx-cx-cx-cx-cx-
Two same actions in a row!
performing monte carlo tree search
step in the AQGM envi with respective feature map: 1 cx-
No X in the circuit! cx-
performing monte carlo tree search
step in the AQGM envi with respective feature map: 2 cx-Z-
No X in the circuit! cx-Z-
performing monte carlo tree search
step in the AQGM envi with respective feature map: 3 cx-Z-Ry(x;=(x),{x})-
performing monte carlo tree search
step in the AQGM envi with respective feature map: 4 cx-Z-Ry(x;=(x),{x})--
performing monte carlo tree search
step in the AQGM envi with respective feature map: 5 cx-Z-Ry(x;=(x),{x})--Rz(p,x;=y*(x),{y,x})-
better prediction error bound! cx-Z-Ry(x;=(x),{x})--Rz(p,x;=y*(x),{y,x})- 78.74575896420214 1000000.0 5
performing monte carlo tree search
step in the AQGM envi with respective feature map: 6 cx-Z-Ry(x;=(x),{x})--Rz(p,x;=y*(x),{y,x})-cx-
performing monte carlo tree search
step in the AQGM envi with respective feature map: 7 cx-Z-Ry(x;=(x),{x})--Rz(p,x;=y*(x),{y,x})-cx-cx-
Two same actions in a row!
performing monte carlo tree search
step in the AQGM envi with respective feature map: 8 cx-Z-Ry(x;=(x),{x})--Rz(p,x;=y*(x),{y,x})-cx-cx-cx-
Two same actions in a row!
performing monte carlo tree search
step in the AQGM envi with respective feature map: 9 cx-Z-Ry(x;=(x),{x})--Rz(p,x;=y*(x),{y,x})-cx-cx-cx-cx-
Two same actions in a row!
performing monte carlo tree search
step in the AQGM envi with respective feature map: 10 cx-Z-Ry(x;=(x),{x})--Rz(p,x;=y*(x),{y,x})-cx-cx-cx-cx-cx-
Two same actions in a row!
performing monte carlo tree search
step in the AQGM envi with respective feature map: 11 cx-Z-Ry(x;=(x),{x})--Rz(p,x;=y*(x),{y,x})-cx-cx-cx-cx-cx-cx-
Two same actions in a row!
performing monte carlo tree search
step in the AQGM envi with respective feature map: 1 cx-
No X in the circuit! cx-
performing monte carlo tree search
step in the AQGM envi with respective feature map: 2 cx-Z-
No X in the circuit! cx-Z-
performing monte carlo tree search
step in the AQGM envi with respective feature map: 3 cx-Z-Ry(x;=(x),{x})-
performing monte carlo tree search
step in the AQGM envi with respective feature map: 4 cx-Z-Ry(x;=(x),{x})--
performing monte carlo tree search
step in the AQGM envi with respective feature map: 5 cx-Z-Ry(x;=(x),{x})--Rz(p,x;=y*(x),{y,x})-
